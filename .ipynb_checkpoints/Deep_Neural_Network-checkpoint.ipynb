{
 "cells": [
  {
   "cell_type": "code",
   "execution_count": 1,
   "id": "ff0c11e3",
   "metadata": {},
   "outputs": [],
   "source": [
    "import numpy as np"
   ]
  },
  {
   "cell_type": "code",
   "execution_count": 2,
   "id": "d30864fd",
   "metadata": {},
   "outputs": [],
   "source": [
    "class DeepNN():\n",
    "    def __init__(self, X, Y, dims_of_layers, activations, alpha = 0.01):\n",
    "        #dims_of_layers - list of number of units in each layer (first element - num of features in input)\n",
    "        #activations - activation function applied to each layer\n",
    "        \n",
    "        #dims_of_layers[0] - n of features in input\n",
    "        #activations[0] - activation for first hidden layer\n",
    "        #we support only 3 activation funcs: linear, sigmoid, relu\n",
    "        \n",
    "        #X.shape should be (n_features, m_examples)\n",
    "        #Y.shape should be (1, m_examples)\n",
    "        self.X = X\n",
    "        self.Y = Y\n",
    "        \n",
    "        self.m_examples = X.shape[1]\n",
    "        \n",
    "        self.dims_of_layers = dims_of_layers\n",
    "        self.n_layers = len(activations)\n",
    "        \n",
    "        self.activations = activations\n",
    "        self.params = dict()\n",
    "        \n",
    "        self.learning_history = []\n",
    "        self.alpha = alpha\n",
    "        \n",
    "        #setting cache dicts for backpropogation\n",
    "        \n",
    "        self.cache = dict()\n",
    "        \n",
    "    \n",
    "    def initialize_params(self):\n",
    "        \n",
    "        for i in range(1, len(self.activations) + 1):\n",
    "            \n",
    "            #setting parameters layer by layer\n",
    "            self.params[\"W\" + str(i)] = np.random.randn(self.dims_of_layers[i], self.dims_of_layers[i-1])\n",
    "            self.params[\"b\" + str(i)] = np.zeros((self.dims_of_layers[i], 1))\n",
    "            \n",
    "     \n",
    "    \n",
    "    def activation(self, Z, function=\"linear\"):\n",
    "        if function == \"linear\":\n",
    "            return Z\n",
    "        \n",
    "        if function == \"sigmoid\":\n",
    "            return 1 / (1 + np.exp(-Z))\n",
    "        \n",
    "        if function == \"relu\":\n",
    "            return Z * (Z > 0)\n",
    "    \n",
    "    def forward_propogation(self, X):\n",
    "        \n",
    "        #X.shape = (n_features, m_examples)\n",
    "        \n",
    "        A_prev = X\n",
    "        \n",
    "        Z_current = np.dot(self.params[\"W1\"], A_prev) + self.params[\"b1\"]\n",
    "        A_current = self.activation(Z_current, function=self.activations[0])\n",
    "        \n",
    "        self.cache[\"Z1\"] = Z_current\n",
    "        self.cache[\"A1\"] = A_current\n",
    "        \n",
    "        for i in range(1, len(self.activations)):\n",
    "            A_prev = A_current\n",
    "            \n",
    "            #A_prev - cache[\"A\" + str(i)]\n",
    "            Z_current = np.dot(self.params[\"W\" + str(i+1)], A_prev)\n",
    "            A_current = self.activation(Z_current, function=self.activations[i])\n",
    "            \n",
    "            #keeping values in cache for backprop\n",
    "            self.cache[\"Z\" + str(i+1)] = Z_current\n",
    "            self.cache[\"A\" + str(i+1)] = A_current            \n",
    "\n",
    "            \n",
    "        predictions = A_current\n",
    "        \n",
    "        return predictions\n",
    "        \n",
    "    def compute_cost(self, predictions, cost_function=\"cross_entropy\"):\n",
    "        #leave cost func as a parameter \n",
    "        #so that we can use it futher not only for classification\n",
    "        \n",
    "        \n",
    "        \n",
    "        \n",
    "        if cost_function == \"cross_entropy\":\n",
    "            \n",
    "            #lets cut off a  tiny constant to avoid log0 problem\n",
    "            epsilon = 10 ** -15\n",
    "            \n",
    "            predictions = np.clip(predictions, epsilon, 1-epsilon)\n",
    "            \n",
    "            #BinaryCrossEntropy\n",
    "        \n",
    "            cost = (self.Y * np.log(predictions) + \n",
    "                    (1 - self.Y) * np.log(1 - (predictions)) * (-1 / self.m_examples))\n",
    "            \n",
    "            cost = np.sum(cost, axis=1, keepdims=True) #sum up the columns\n",
    "            \n",
    "        #we will have more cost functions here later...\n",
    "        \n",
    "        return cost\n",
    "    \n",
    "    def deriv_of_cost(self, predictions, cost_function=\"cross_entropy\"):\n",
    "        \n",
    "        if cost_function == \"cross_entropy\":\n",
    "            \n",
    "            #avoiding division by zero\n",
    "            epsilon = 10 ** -15\n",
    "            predictions = np.clip(predictions, epsilon, 1-epsilon)\n",
    "            \n",
    "            dAL = (predictions - self.Y) / (predictions * (1 - predictions))\n",
    "            \n",
    "        #we will have more cost functions here later...\n",
    "        \n",
    "        return dAL\n",
    "            \n",
    "    \n",
    "    #implement backpropogation\n",
    "            "
   ]
  },
  {
   "cell_type": "code",
   "execution_count": 3,
   "id": "291f4690",
   "metadata": {},
   "outputs": [],
   "source": [
    "dims = [3, 4, 2, 1]\n",
    "activation = [\"relu\", \"relu\", \"sigmoid\"]\n",
    "\n",
    "X = np.ones((3, 6))\n",
    "y = np.array([[1,1,1,0,0,0]])\n",
    "\n",
    "\n"
   ]
  },
  {
   "cell_type": "code",
   "execution_count": 221,
   "id": "181f2491",
   "metadata": {},
   "outputs": [],
   "source": [
    "deepnn = DeepNN(X, y, dims, activation)\n",
    "deepnn.initialize_params()"
   ]
  },
  {
   "cell_type": "code",
   "execution_count": 222,
   "id": "226bdea0",
   "metadata": {},
   "outputs": [],
   "source": [
    "x = np.array([10, 5, 9]).reshape(-1, 1)\n",
    "\n",
    "predictions = np.array([[0,0,0,1,1,1]])"
   ]
  },
  {
   "cell_type": "code",
   "execution_count": 223,
   "id": "2a69ed38",
   "metadata": {},
   "outputs": [
    {
     "data": {
      "text/plain": [
       "array([[-86.347]])"
      ]
     },
     "execution_count": 223,
     "metadata": {},
     "output_type": "execute_result"
    }
   ],
   "source": [
    "np.round(deepnn.compute_cost(predictions), 3)"
   ]
  },
  {
   "cell_type": "code",
   "execution_count": 212,
   "id": "76fcca6d",
   "metadata": {},
   "outputs": [
    {
     "data": {
      "text/plain": [
       "999999999999999.9"
      ]
     },
     "execution_count": 212,
     "metadata": {},
     "output_type": "execute_result"
    }
   ],
   "source": [
    "1 / 10**-15"
   ]
  },
  {
   "cell_type": "code",
   "execution_count": 5,
   "id": "a3ecd6f8",
   "metadata": {},
   "outputs": [
    {
     "data": {
      "text/plain": [
       "[9, 8, 7, 6, 5, 4, 3, 2, 1]"
      ]
     },
     "execution_count": 5,
     "metadata": {},
     "output_type": "execute_result"
    }
   ],
   "source": [
    "list(reversed(range(1, 10)))"
   ]
  },
  {
   "cell_type": "code",
   "execution_count": null,
   "id": "ed12d3ec",
   "metadata": {},
   "outputs": [],
   "source": []
  }
 ],
 "metadata": {
  "kernelspec": {
   "display_name": "Python 3 (ipykernel)",
   "language": "python",
   "name": "python3"
  },
  "language_info": {
   "codemirror_mode": {
    "name": "ipython",
    "version": 3
   },
   "file_extension": ".py",
   "mimetype": "text/x-python",
   "name": "python",
   "nbconvert_exporter": "python",
   "pygments_lexer": "ipython3",
   "version": "3.10.12"
  }
 },
 "nbformat": 4,
 "nbformat_minor": 5
}
