{
 "cells": [
  {
   "cell_type": "code",
   "execution_count": 3,
   "id": "ff0c11e3",
   "metadata": {},
   "outputs": [],
   "source": [
    "import numpy as np"
   ]
  },
  {
   "cell_type": "code",
   "execution_count": 32,
   "id": "d30864fd",
   "metadata": {},
   "outputs": [],
   "source": [
    "class DeepNN():\n",
    "    def __init__(self, dims_of_layers, activations, alpha = 0.01):\n",
    "        #dims_of_layers - list of number of units in each layer (first element - num of features in input)\n",
    "        #activations - activation function applied to each layer\n",
    "        \n",
    "        #dims_of_layers[0] - n of features in input\n",
    "        #activations[0] - activation for first hidden layer\n",
    "        #we support only 3 activation funcs: linear, sigmoid, relu\n",
    "        \n",
    "        self.dims_of_layers = dims_of_layers\n",
    "        self.n_layers = len(activations)\n",
    "        \n",
    "        self.activations = activations\n",
    "        self.params = dict()\n",
    "        \n",
    "        self.learning_history = []\n",
    "        self.alpha = alpha\n",
    "        \n",
    "        #setting cache dicts for backpropogation\n",
    "        \n",
    "        self.cache = dict()\n",
    "        \n",
    "    \n",
    "    def initialize_params(self):\n",
    "        \n",
    "        for i in range(1, len(self.activations) + 1):\n",
    "            \n",
    "            #setting parameters layer by layer\n",
    "            self.params[\"W\" + str(i)] = np.random.randn(self.dims_of_layers[i], self.dims_of_layers[i-1])\n",
    "            self.params[\"b\" + str(i)] = np.zeros((self.dims_of_layers[i], 1))\n",
    "            \n",
    "     \n",
    "    \n",
    "    def activation(self, Z, function=\"linear\"):\n",
    "        if function == \"linear\":\n",
    "            return Z\n",
    "        \n",
    "        if function == \"sigmoid\":\n",
    "            return 1 / (1 + np.exp(-Z))\n",
    "        \n",
    "        if function == \"relu\":\n",
    "            return Z * (Z > 0)\n",
    "    \n",
    "    def forward_propogation(self, X):\n",
    "        pass\n",
    "        #a_prev = X\n",
    "        \n",
    "        \n",
    "        \n",
    "            "
   ]
  },
  {
   "cell_type": "code",
   "execution_count": 33,
   "id": "0a98f653",
   "metadata": {},
   "outputs": [],
   "source": [
    "deepn = DeepNN([], [])"
   ]
  },
  {
   "cell_type": "code",
   "execution_count": 34,
   "id": "408ad152",
   "metadata": {},
   "outputs": [],
   "source": [
    "example = np.array([13454, -535, 0.1, -0.4, 0.5, -2, 0]).reshape(-1, 1)\n"
   ]
  },
  {
   "cell_type": "code",
   "execution_count": 35,
   "id": "e654ac6c",
   "metadata": {},
   "outputs": [
    {
     "data": {
      "text/plain": [
       "array([[ 1.3454e+04],\n",
       "       [-0.0000e+00],\n",
       "       [ 1.0000e-01],\n",
       "       [-0.0000e+00],\n",
       "       [ 5.0000e-01],\n",
       "       [-0.0000e+00],\n",
       "       [ 0.0000e+00]])"
      ]
     },
     "execution_count": 35,
     "metadata": {},
     "output_type": "execute_result"
    }
   ],
   "source": [
    "deepn.activation(example, \"relu\")"
   ]
  },
  {
   "cell_type": "code",
   "execution_count": null,
   "id": "b383818e",
   "metadata": {},
   "outputs": [],
   "source": []
  }
 ],
 "metadata": {
  "kernelspec": {
   "display_name": "Python 3 (ipykernel)",
   "language": "python",
   "name": "python3"
  },
  "language_info": {
   "codemirror_mode": {
    "name": "ipython",
    "version": 3
   },
   "file_extension": ".py",
   "mimetype": "text/x-python",
   "name": "python",
   "nbconvert_exporter": "python",
   "pygments_lexer": "ipython3",
   "version": "3.10.12"
  }
 },
 "nbformat": 4,
 "nbformat_minor": 5
}
