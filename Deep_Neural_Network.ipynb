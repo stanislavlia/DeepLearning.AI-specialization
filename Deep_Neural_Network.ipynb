{
 "cells": [
  {
   "cell_type": "code",
   "execution_count": 3,
   "id": "ff0c11e3",
   "metadata": {},
   "outputs": [],
   "source": [
    "import numpy as np"
   ]
  },
  {
   "cell_type": "code",
   "execution_count": 101,
   "id": "d30864fd",
   "metadata": {},
   "outputs": [],
   "source": [
    "class DeepNN():\n",
    "    def __init__(self, dims_of_layers, activations, alpha = 0.01):\n",
    "        #dims_of_layers - list of number of units in each layer (first element - num of features in input)\n",
    "        #activations - activation function applied to each layer\n",
    "        \n",
    "        #dims_of_layers[0] - n of features in input\n",
    "        #activations[0] - activation for first hidden layer\n",
    "        #we support only 3 activation funcs: linear, sigmoid, relu\n",
    "        \n",
    "        self.dims_of_layers = dims_of_layers\n",
    "        self.n_layers = len(activations)\n",
    "        \n",
    "        self.activations = activations\n",
    "        self.params = dict()\n",
    "        \n",
    "        self.learning_history = []\n",
    "        self.alpha = alpha\n",
    "        \n",
    "        #setting cache dicts for backpropogation\n",
    "        \n",
    "        self.cache = dict()\n",
    "        \n",
    "    \n",
    "    def initialize_params(self):\n",
    "        \n",
    "        for i in range(1, len(self.activations) + 1):\n",
    "            \n",
    "            #setting parameters layer by layer\n",
    "            self.params[\"W\" + str(i)] = np.random.randn(self.dims_of_layers[i], self.dims_of_layers[i-1])\n",
    "            self.params[\"b\" + str(i)] = np.zeros((self.dims_of_layers[i], 1))\n",
    "            \n",
    "     \n",
    "    \n",
    "    def activation(self, Z, function=\"linear\"):\n",
    "        if function == \"linear\":\n",
    "            return Z\n",
    "        \n",
    "        if function == \"sigmoid\":\n",
    "            return 1 / (1 + np.exp(-Z))\n",
    "        \n",
    "        if function == \"relu\":\n",
    "            return Z * (Z > 0)\n",
    "    \n",
    "    def forward_propogation(self, X):\n",
    "        \n",
    "        #X.shape = (n_features, m_examples)\n",
    "        \n",
    "        A_prev = X\n",
    "        \n",
    "        Z_current = np.dot(self.params[\"W1\"], A_prev) + self.params[\"b1\"]\n",
    "        A_current = self.activation(Z_current, function=self.activations[0])\n",
    "        \n",
    "        self.cache[\"Z1\"] = Z_current\n",
    "        self.cache[\"A1\"] = A_current\n",
    "        \n",
    "        for i in range(1, len(self.activations)):\n",
    "            A_prev = A_current\n",
    "            \n",
    "            #A_prev - cache[\"A\" + str(i)]\n",
    "            Z_current = np.dot(self.params[\"W\" + str(i+1)], A_prev)\n",
    "            A_current = self.activation(Z_current, function=self.activations[i])\n",
    "            \n",
    "            #keeping values in cache for backprop\n",
    "            self.cache[\"Z1\"] = Z_current\n",
    "            self.cache[\"A1\"] = A_current            \n",
    "\n",
    "            \n",
    "        predictions = A_current\n",
    "        \n",
    "        return predictions\n",
    "        \n",
    "        \n",
    "            "
   ]
  },
  {
   "cell_type": "code",
   "execution_count": 102,
   "id": "3605e11a",
   "metadata": {},
   "outputs": [],
   "source": [
    "dims = [3, 4, 2, 1]\n",
    "activation = [\"relu\", \"relu\", \"sigmoid\"]\n"
   ]
  },
  {
   "cell_type": "code",
   "execution_count": 124,
   "id": "f39838f4",
   "metadata": {},
   "outputs": [],
   "source": [
    "deepnn = DeepNN(dims, activation)\n",
    "deepnn.initialize_params()"
   ]
  },
  {
   "cell_type": "code",
   "execution_count": 126,
   "id": "b89bc3d5",
   "metadata": {},
   "outputs": [
    {
     "data": {
      "text/plain": [
       "array([[0.40735787, 0.40735787, 0.40735787, 0.40735787, 0.40735787,\n",
       "        0.40735787, 0.40735787, 0.40735787, 0.40735787, 0.40735787]])"
      ]
     },
     "execution_count": 126,
     "metadata": {},
     "output_type": "execute_result"
    }
   ],
   "source": [
    "deepnn.forward_propogation(X)"
   ]
  },
  {
   "cell_type": "code",
   "execution_count": null,
   "id": "c976a6e1",
   "metadata": {},
   "outputs": [],
   "source": []
  }
 ],
 "metadata": {
  "kernelspec": {
   "display_name": "Python 3 (ipykernel)",
   "language": "python",
   "name": "python3"
  },
  "language_info": {
   "codemirror_mode": {
    "name": "ipython",
    "version": 3
   },
   "file_extension": ".py",
   "mimetype": "text/x-python",
   "name": "python",
   "nbconvert_exporter": "python",
   "pygments_lexer": "ipython3",
   "version": "3.10.12"
  }
 },
 "nbformat": 4,
 "nbformat_minor": 5
}
