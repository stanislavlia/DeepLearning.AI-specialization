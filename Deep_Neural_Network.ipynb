{
  "cells": [
    {
      "cell_type": "code",
      "execution_count": 1,
      "id": "ff0c11e3",
      "metadata": {
        "id": "ff0c11e3"
      },
      "outputs": [],
      "source": [
        "import numpy as np"
      ]
    },
    {
      "cell_type": "code",
      "execution_count": 196,
      "id": "d30864fd",
      "metadata": {
        "id": "d30864fd"
      },
      "outputs": [],
      "source": [
        "class DeepNN():\n",
        "    def __init__(self, X, Y, dims_of_layers, activations, alpha = 0.01):\n",
        "        #dims_of_layers - list of number of units in each layer (first element - num of features in input)\n",
        "        #activations - activation function applied to each layer\n",
        "\n",
        "        #dims_of_layers[0] - n of features in input\n",
        "        #activations[0] - activation for first hidden layer\n",
        "        #we support only 3 activation funcs: linear, sigmoid, relu\n",
        "\n",
        "        #X.shape should be (n_features, m_examples)\n",
        "        #Y.shape should be (1, m_examples)\n",
        "        self.X = X\n",
        "        self.Y = Y\n",
        "\n",
        "        self.m_examples = X.shape[1]\n",
        "\n",
        "        self.dims_of_layers = dims_of_layers\n",
        "        self.n_layers = len(activations)\n",
        "\n",
        "        self.activations = activations\n",
        "        self.params = dict()\n",
        "\n",
        "        self.learning_history = []\n",
        "        self.alpha = alpha\n",
        "\n",
        "        #setting cache dicts for backpropogation\n",
        "\n",
        "        self.cache = dict()\n",
        "\n",
        "    def initialize_params(self):\n",
        "\n",
        "        for i in range(1, len(self.activations) + 1):\n",
        "\n",
        "            #setting parameters layer by layer\n",
        "            self.params[\"W\" + str(i)] = np.random.randn(self.dims_of_layers[i], self.dims_of_layers[i-1])\n",
        "            self.params[\"b\" + str(i)] = np.zeros((self.dims_of_layers[i], 1))\n",
        "\n",
        "\n",
        "\n",
        "    def activation(self, Z, function=\"linear\"):\n",
        "        if function == \"linear\":\n",
        "            return Z\n",
        "\n",
        "        if function == \"sigmoid\":\n",
        "            return 1 / (1 + np.exp(-Z))\n",
        "\n",
        "        if function == \"relu\":\n",
        "            return Z * (Z > 0)\n",
        "\n",
        "\n",
        "    def deriv_activation(self, Z, function):\n",
        "        if function == \"linear\":\n",
        "            return 1.\n",
        "\n",
        "        if function == \"sigmoid\":\n",
        "            sigm_z = self.activation(Z, \"sigmoid\")\n",
        "\n",
        "            return sigm_z *(1 - sigm_z)\n",
        "\n",
        "        if function == \"relu\":\n",
        "            return 1. * (Z > 0)\n",
        "\n",
        "\n",
        "\n",
        "    def forward_propogation(self, X):\n",
        "\n",
        "        #X.shape = (n_features, m_examples)\n",
        "\n",
        "        A_prev = X\n",
        "        self.cache[\"A0\"]  = A_prev\n",
        "\n",
        "        Z_current = np.dot(self.params[\"W1\"], A_prev) + self.params[\"b1\"]\n",
        "        A_current = self.activation(Z_current, function=self.activations[0])\n",
        "\n",
        "        self.cache[\"Z1\"] = Z_current\n",
        "        self.cache[\"A1\"] = A_current\n",
        "\n",
        "        for i in range(1, len(self.activations)):\n",
        "            A_prev = A_current\n",
        "\n",
        "            #A_prev - cache[\"A\" + str(i)]\n",
        "            Z_current = np.dot(self.params[\"W\" + str(i+1)], A_prev) + self.params[\"b\" + str(i+1)]\n",
        "            A_current = self.activation(Z_current, function=self.activations[i])\n",
        "\n",
        "            #keeping values in cache for backprop\n",
        "            self.cache[\"Z\" + str(i+1)] = Z_current\n",
        "            self.cache[\"A\" + str(i+1)] = A_current\n",
        "\n",
        "\n",
        "        predictions = A_current\n",
        "\n",
        "        return predictions\n",
        "\n",
        "    def compute_cost(self, predictions, cost_function=\"cross_entropy\"):\n",
        "        #leave cost func as a parameter\n",
        "        #so that we can use it futher not only for classification\n",
        "\n",
        "\n",
        "\n",
        "\n",
        "        if cost_function == \"cross_entropy\":\n",
        "\n",
        "            #lets cut off a  tiny constant to avoid log0 problem\n",
        "            epsilon = 10 ** -15\n",
        "\n",
        "            predictions = np.clip(predictions, epsilon, 1-epsilon)\n",
        "\n",
        "            #BinaryCrossEntropy\n",
        "\n",
        "            cost = (self.Y * np.log(predictions) +\n",
        "                    (1 - self.Y) * np.log(1 - (predictions)) ) * (-1 / self.m_examples)\n",
        "\n",
        "            cost = np.sum(cost, axis=1, keepdims=True) #sum up the columns\n",
        "\n",
        "        #we will have more cost functions here later...\n",
        "\n",
        "        return cost\n",
        "\n",
        "    def deriv_of_cost(self, predictions, cost_function=\"cross_entropy\"):\n",
        "\n",
        "        if cost_function == \"cross_entropy\":\n",
        "\n",
        "            #avoiding division by zero\n",
        "            epsilon = 10 ** -15\n",
        "            predictions = np.clip(predictions, epsilon, 1-epsilon)\n",
        "\n",
        "            dAL = (predictions - self.Y) / (predictions * (1 - predictions))\n",
        "\n",
        "        #we will have more cost functions here later...\n",
        "\n",
        "        return dAL\n",
        "\n",
        "\n",
        "    def back_propogation(self, predictions, cost_func=\"cross_entropy\"):\n",
        "\n",
        "        L = self.n_layers\n",
        "\n",
        "        grads_cache = dict()\n",
        "\n",
        "        for i in range(L, 0, -1):\n",
        "            if i == L:\n",
        "                dA_i = self.deriv_of_cost(predictions, cost_function=cost_func)\n",
        "            else:\n",
        "\n",
        "                dA_i = np.dot(self.params[\"W\" + str(i+1)].T, grads_cache[\"dZ\" + str(i+1)]) #ERROR MuSt be here\n",
        "                #print(\"i =\", i)\n",
        "                # print(\"W=\", self.params[\"W\" + str(i+1)] )\n",
        "                # print(\"dZ_next =\", grads_cache[\"dZ\" + str(i+1)])\n",
        "\n",
        "                # print(\"W = \", self.params[\"W\" + str(i+1)].T.shape)\n",
        "                # print(\"W shape \", )\n",
        "                # print(\"dZ shape\" + str(i),  grads_cache[\"dZ\" + str(i+1)].shape)\n",
        "                #print(\"dA\", dA_i)\n",
        "\n",
        "\n",
        "            grads_cache[\"dA\" + str(i)] = dA_i\n",
        "            activation_i = self.activations[i-1]\n",
        "\n",
        "            Z_i = self.cache[\"Z\" + str(i)]\n",
        "            A_prev = self.cache[\"A\" + str(i-1)]\n",
        "            W_i = self.params[\"W\" + str(i)]\n",
        "\n",
        "            #print(\"Activation = \", activation_i)\n",
        "            dZ_i = dA_i * self.deriv_activation(Z_i, activation_i)\n",
        "\n",
        "            #print(\"Sum of dZ_i\", np.sum(dZ_i))\n",
        "\n",
        "            #computing derivs for W, b\n",
        "            dW_i = (1 / self.m_examples) * np.dot(dZ_i, A_prev.T)\n",
        "            db_i = (1/ self.m_examples) * np.sum(dZ_i, axis=1, keepdims=True)\n",
        "\n",
        "\n",
        "            #storing gradients\n",
        "            grads_cache[\"dZ\" + str(i)] = dZ_i\n",
        "            grads_cache[\"dW\" + str(i)] = dW_i\n",
        "            grads_cache[\"db\" + str(i)] = db_i\n",
        "\n",
        "        return grads_cache\n",
        "\n",
        "    def update_params(self, grads):\n",
        "\n",
        "        for i in range(1, self.n_layers + 1):\n",
        "\n",
        "            #updating by Gradient Descent\n",
        "            self.params[\"W\" + str(i)] -=  self.alpha * grads[\"dW\" + str(i)]\n",
        "            self.params[\"b\" + str(i)] -= self.alpha * grads[\"db\" + str(i)]\n",
        "\n",
        "\n",
        "    def fit(self, epochs=100, cost_func=\"cross_entropy\", debug=False):\n",
        "\n",
        "        #fitting process\n",
        "\n",
        "        #initialize random params\n",
        "\n",
        "        history = []\n",
        "        self.initialize_params()\n",
        "\n",
        "\n",
        "        for epoch in range(0, epochs + 1):\n",
        "\n",
        "            predictions = self.forward_propogation(self.X)\n",
        "\n",
        "            #computing cost function\n",
        "            cost = np.round(self.compute_cost(predictions, cost_func), 6)\n",
        "            history.append(cost)\n",
        "\n",
        "\n",
        "            if (epoch % max(1 , (epochs // 10)) == 0):\n",
        "              print(\"Epoch #{},  {} == {}\".format(epoch, cost_func, cost))\n",
        "\n",
        "            #computing gradients\n",
        "            grads = self.back_propogation(predictions, cost_func=\"cross_entropy\")\n",
        "            if debug == True:\n",
        "              print(grads)\n",
        "\n",
        "            #update params using Gradient Descent\n",
        "            self.update_params(grads)\n",
        "\n",
        "        self.history = history"
      ]
    },
    {
      "cell_type": "markdown",
      "id": "2ec9b891",
      "metadata": {
        "id": "2ec9b891"
      },
      "source": [
        "## Trying my DeepNN on syntetic dataset for binary classification\n",
        "\n"
      ]
    },
    {
      "cell_type": "code",
      "execution_count": 191,
      "id": "5f95c952",
      "metadata": {
        "id": "5f95c952"
      },
      "outputs": [],
      "source": [
        "#Simple dataset\n",
        "\n",
        "X = np.array([[1, 1, 0],\n",
        "             [1, 0, 0],\n",
        "             [0, 1, 0],\n",
        "             [0, 0, 0],\n",
        "              [1, 0, 1]]).T\n",
        "\n",
        "y = np.array([1, 1, 0, 0, 1]).reshape(-1, 1).T\n",
        "\n",
        "units = [3, 1]\n",
        "activations = [\"sigmoid\"]"
      ]
    },
    {
      "cell_type": "code",
      "execution_count": 192,
      "id": "7fdabc39",
      "metadata": {
        "id": "7fdabc39"
      },
      "outputs": [],
      "source": [
        "# deepnn = DeepNN(X, y, units, activations, alpha = 0.01)\n",
        "# history = deepnn.fit(epochs=2000)"
      ]
    },
    {
      "cell_type": "code",
      "execution_count": 240,
      "id": "ab8bcb8b",
      "metadata": {
        "scrolled": true,
        "colab": {
          "base_uri": "https://localhost:8080/",
          "height": 696
        },
        "id": "ab8bcb8b",
        "outputId": "c8abc271-cc55-4478-9ae7-be520341c96e"
      },
      "outputs": [
        {
          "output_type": "display_data",
          "data": {
            "text/plain": [
              "<Figure size 1100x800 with 1 Axes>"
            ],
            "image/png": "[encoded data removed]"
          },
          "metadata": {}
        }
      ],
      "source": [
        "import matplotlib.pyplot as plt\n",
        "from sklearn.model_selection import train_test_split\n",
        "\n",
        "#Trying on a data\n",
        "\n",
        "np.random.seed(2004)\n",
        "\n",
        "# Generate data for not admitted students\n",
        "mean_not_admitted = [70, 75]\n",
        "cov_not_admitted = [[100, 50], [50, 100]]\n",
        "not_admitted = np.random.multivariate_normal(mean_not_admitted, cov_not_admitted, size=50)\n",
        "\n",
        "# Generate data for admitted students\n",
        "mean_admitted = [100, 90]\n",
        "cov_admitted = [[100, 50], [50, 100]]\n",
        "admitted = np.random.multivariate_normal(mean_admitted, cov_admitted, size=50)\n",
        "\n",
        "# Combine the data\n",
        "X = np.vstack((not_admitted, admitted)) / 100\n",
        "y = np.hstack((np.zeros(50), np.ones(50)))\n",
        "\n",
        "\n",
        "\n",
        "# Plot the generated data\n",
        "\n",
        "plt.figure(figsize=(11, 8))\n",
        "plt.scatter(not_admitted[:, 0], not_admitted[:, 1], label=\"Not Admitted\")\n",
        "plt.scatter(admitted[:, 0], admitted[:, 1], label=\"Admitted\")\n",
        "plt.xlabel(\"Test Score\")\n",
        "plt.ylabel(\"Grade\")\n",
        "plt.legend()\n",
        "plt.show()"
      ]
    },
    {
      "cell_type": "code",
      "execution_count": 259,
      "id": "9c08a9f0",
      "metadata": {
        "id": "9c08a9f0"
      },
      "outputs": [],
      "source": [
        "#my DeepNN\n",
        "\n",
        "X_train,  X_test, y_train,y_test = train_test_split(X, y, random_state=1)\n",
        "\n",
        "\n",
        "\n",
        "\n",
        "#transform for our NN\n",
        "\n",
        "X_train = X_train.T\n",
        "X_test = X_test.T\n",
        "\n",
        "y_train = y_train.reshape(-1, 1).T\n",
        "y_test = y_test.reshape(-1, 1).T\n",
        "\n",
        "\n",
        "\n",
        "#Yes, I guess, it is too complicated for such a simple dataset\n",
        "units = [X.shape[1], 5 , 5,  1]\n",
        "activations = [\"relu\" , \"relu\" ,\"sigmoid\"]\n",
        "\n",
        "\n",
        "\n",
        "\n"
      ]
    },
    {
      "cell_type": "code",
      "execution_count": 255,
      "id": "cc125045",
      "metadata": {
        "colab": {
          "base_uri": "https://localhost:8080/"
        },
        "id": "cc125045",
        "outputId": "3b6326b2-d6a6-407e-f079-e41da4b0eb47"
      },
      "outputs": [
        {
          "output_type": "stream",
          "name": "stdout",
          "text": [
            "Epoch #0,  cross_entropy == [[0.720188]]\n",
            "Epoch #300,  cross_entropy == [[0.689194]]\n",
            "Epoch #600,  cross_entropy == [[0.680855]]\n",
            "Epoch #900,  cross_entropy == [[0.670203]]\n",
            "Epoch #1200,  cross_entropy == [[0.654631]]\n",
            "Epoch #1500,  cross_entropy == [[0.628584]]\n",
            "Epoch #1800,  cross_entropy == [[0.58154]]\n",
            "Epoch #2100,  cross_entropy == [[0.488897]]\n",
            "Epoch #2400,  cross_entropy == [[0.405098]]\n",
            "Epoch #2700,  cross_entropy == [[0.343269]]\n",
            "Epoch #3000,  cross_entropy == [[0.299771]]\n"
          ]
        }
      ],
      "source": [
        "\n",
        "\n",
        "\n",
        "deepnn = DeepNN(X_train, y_train, units, activations, alpha = 0.01)\n",
        "deepnn.fit(3000, debug=False)"
      ]
    },
    {
      "cell_type": "code",
      "source": [
        "predictions = np.round(np.array(deepnn.forward_propogation(X_test)).T)\n"
      ],
      "metadata": {
        "id": "zM9OpLoYYK_t"
      },
      "id": "zM9OpLoYYK_t",
      "execution_count": 257,
      "outputs": []
    },
    {
      "cell_type": "code",
      "source": [
        "from sklearn.metrics import accuracy_score\n",
        "\n",
        "\n",
        "accuracy_score(y_test.T, predictions)"
      ],
      "metadata": {
        "colab": {
          "base_uri": "https://localhost:8080/"
        },
        "id": "O5OWazVt3DKE",
        "outputId": "ed59b68a-42ff-44cf-b4de-5cf5cf746746"
      },
      "id": "O5OWazVt3DKE",
      "execution_count": 258,
      "outputs": [
        {
          "output_type": "execute_result",
          "data": {
            "text/plain": [
              "0.96"
            ]
          },
          "metadata": {},
          "execution_count": 258
        }
      ]
    },
    {
      "cell_type": "code",
      "source": [],
      "metadata": {
        "id": "qsPwgJFQ3bsS"
      },
      "id": "qsPwgJFQ3bsS",
      "execution_count": null,
      "outputs": []
    }
  ],
  "metadata": {
    "kernelspec": {
      "display_name": "Python 3 (ipykernel)",
      "language": "python",
      "name": "python3"
    },
    "language_info": {
      "codemirror_mode": {
        "name": "ipython",
        "version": 3
      },
      "file_extension": ".py",
      "mimetype": "text/x-python",
      "name": "python",
      "nbconvert_exporter": "python",
      "pygments_lexer": "ipython3",
      "version": "3.10.12"
    },
    "colab": {
      "provenance": []
    }
  },
  "nbformat": 4,
  "nbformat_minor": 5
}