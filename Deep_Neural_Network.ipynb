{
 "cells": [
  {
   "cell_type": "code",
   "execution_count": 1,
   "id": "ff0c11e3",
   "metadata": {},
   "outputs": [],
   "source": [
    "import numpy as np"
   ]
  },
  {
   "cell_type": "code",
   "execution_count": null,
   "id": "d30864fd",
   "metadata": {},
   "outputs": [],
   "source": [
    "class DeepNN()\n",
    "    def __init__(self, dims_of_layers, activations):\n",
    "        #dims_of_layers - list of number of units in each layer (first element - num of features in input)\n",
    "        #activations - activation function applied to each layer\n",
    "        \n",
    "        self.n_layers = len(dims_of_layers)\n",
    "        self.activations = activations\n",
    "        \n",
    "        "
   ]
  }
 ],
 "metadata": {
  "kernelspec": {
   "display_name": "Python 3 (ipykernel)",
   "language": "python",
   "name": "python3"
  },
  "language_info": {
   "codemirror_mode": {
    "name": "ipython",
    "version": 3
   },
   "file_extension": ".py",
   "mimetype": "text/x-python",
   "name": "python",
   "nbconvert_exporter": "python",
   "pygments_lexer": "ipython3",
   "version": "3.10.12"
  }
 },
 "nbformat": 4,
 "nbformat_minor": 5
}
